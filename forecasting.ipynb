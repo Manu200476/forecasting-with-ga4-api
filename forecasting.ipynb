{
  "cells": [
    {
      "cell_type": "markdown",
      "source": [
        "# Forecasting for SEO Traffic using the GA4 Api"
      ],
      "metadata": {
        "id": "UoWDBB4InSPq"
      },
      "id": "UoWDBB4InSPq"
    },
    {
      "cell_type": "code",
      "execution_count": null,
      "id": "10498b6e-2eaf-4c98-9f48-964dfa6bc0c1",
      "metadata": {
        "id": "10498b6e-2eaf-4c98-9f48-964dfa6bc0c1"
      },
      "outputs": [],
      "source": [
        "pip install pandas numpy matplotlib google-analytics-data oauth2client prophet"
      ]
    },
    {
      "cell_type": "code",
      "execution_count": null,
      "id": "3584f4e3-412a-41d1-830c-5f811eb6a8d6",
      "metadata": {
        "id": "3584f4e3-412a-41d1-830c-5f811eb6a8d6"
      },
      "outputs": [],
      "source": [
        "import os\n",
        "import numpy as np\n",
        "import pandas as pd\n",
        "from prophet import Prophet\n",
        "from google.colab import drive\n",
        "from prophet.plot import plot_plotly, plot_components_plotly\n",
        "from oauth2client.service_account import ServiceAccountCredentials\n",
        "from google.analytics.data_v1beta import BetaAnalyticsDataClient\n",
        "from google.analytics.data_v1beta.types import DateRange, Dimension, Metric, RunReportRequest"
      ]
    },
    {
      "cell_type": "code",
      "source": [
        "drive.mount('/content/drive')\n",
        "client_secrets = '/content/drive/MyDrive/GCP/service_account.json'"
      ],
      "metadata": {
        "id": "md4Wml48nLEr"
      },
      "id": "md4Wml48nLEr",
      "execution_count": null,
      "outputs": []
    },
    {
      "cell_type": "code",
      "execution_count": 13,
      "id": "d5e8bc25-85f0-4329-b87f-e6c0aa360948",
      "metadata": {
        "id": "d5e8bc25-85f0-4329-b87f-e6c0aa360948"
      },
      "outputs": [],
      "source": [
        "os.environ['GOOGLE_APPLICATION_CREDENTIALS'] = client_secrets\n",
        "property_id = 0\n",
        "web_name=\"\"\n",
        "\n",
        "client = BetaAnalyticsDataClient()"
      ]
    },
    {
      "cell_type": "code",
      "execution_count": 15,
      "id": "e1b42f03-bfd1-440b-ae38-5472d8d12dc9",
      "metadata": {
        "id": "e1b42f03-bfd1-440b-ae38-5472d8d12dc9"
      },
      "outputs": [],
      "source": [
        "def make_a_request(start_date, end_date, dimension, metric):\n",
        "    request = RunReportRequest(\n",
        "        property=f\"properties/{property_id}\",\n",
        "        dimensions=[Dimension(name=dimension)],\n",
        "        metrics=[Metric(name=metric)],\n",
        "        date_ranges=[DateRange(start_date=start_date, end_date=end_date)],\n",
        "    )\n",
        "    response = client.run_report(request)\n",
        "    return response"
      ]
    },
    {
      "cell_type": "code",
      "execution_count": null,
      "id": "6420e2f6-d0a7-4b8c-a133-756b114fbebd",
      "metadata": {
        "id": "6420e2f6-d0a7-4b8c-a133-756b114fbebd"
      },
      "outputs": [],
      "source": [
        "response = make_a_request(\"2021-01-01\", \"2021-11-30\", \"date\", \"activeUsers\")\n",
        "output = []\n",
        "for row in response.rows:\n",
        "    output.append(\n",
        "        {\n",
        "            'ds': row.dimension_values[0].value,\n",
        "            'y': float(row.metric_values[0].value)\n",
        "        }\n",
        "    )\n",
        "\n",
        "users_df = pd.DataFrame.from_dict(output)"
      ]
    },
    {
      "cell_type": "code",
      "execution_count": null,
      "id": "dea8a263-5a52-4039-915b-e78b7f2a34bf",
      "metadata": {
        "id": "dea8a263-5a52-4039-915b-e78b7f2a34bf"
      },
      "outputs": [],
      "source": [
        "m = Prophet()\n",
        "m.fit(users_df)\n",
        "future = m.make_future_dataframe(periods=12)\n",
        "forecast = m.predict(future)\n",
        "forecast[['ds', 'yhat', 'yhat_lower', 'yhat_upper']].tail()"
      ]
    },
    {
      "cell_type": "code",
      "execution_count": null,
      "id": "3515514d-414a-45bc-9eb4-718cad4cc69e",
      "metadata": {
        "id": "3515514d-414a-45bc-9eb4-718cad4cc69e"
      },
      "outputs": [],
      "source": [
        "plot_plotly(m, forecast)"
      ]
    }
  ],
  "metadata": {
    "kernelspec": {
      "display_name": "Python 3 (ipykernel)",
      "language": "python",
      "name": "python3"
    },
    "language_info": {
      "codemirror_mode": {
        "name": "ipython",
        "version": 3
      },
      "file_extension": ".py",
      "mimetype": "text/x-python",
      "name": "python",
      "nbconvert_exporter": "python",
      "pygments_lexer": "ipython3",
      "version": "3.9.4"
    },
    "colab": {
      "name": "forecasting.ipynb",
      "provenance": [],
      "collapsed_sections": []
    }
  },
  "nbformat": 4,
  "nbformat_minor": 5
}